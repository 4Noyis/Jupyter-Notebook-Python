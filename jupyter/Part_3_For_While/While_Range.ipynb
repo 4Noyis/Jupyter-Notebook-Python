{
 "metadata": {
  "language_info": {
   "codemirror_mode": {
    "name": "ipython",
    "version": 3
   },
   "file_extension": ".py",
   "mimetype": "text/x-python",
   "name": "python",
   "nbconvert_exporter": "python",
   "pygments_lexer": "ipython3",
   "version": "3.8.5"
  },
  "orig_nbformat": 2,
  "kernelspec": {
   "name": "python385jvsc74a57bd0a8f61be024eba58adef938c9aa1e29e02cb3dece83a5348b1a2dafd16a070453",
   "display_name": "Python 3.8.5 64-bit ('base': conda)"
  }
 },
 "nbformat": 4,
 "nbformat_minor": 2,
 "cells": [
  {
   "source": [
    "# While \n",
    "While döngüleri belli bir koşul sağlandığı sürece bloğundaki işlemleri gerçekleştirmeye devam eder. While döngülerinin sona ermesi için koşul durumunun bir süre sonra ***False*** olması gereklidir.\n",
    "\n",
    "                             while (koşul):\n",
    "                                İşlem1\n",
    "                                İşlem2\n",
    "                                İşlem3\n",
    "                                  //\n",
    "                                  //\n",
    "\n"
   ],
   "cell_type": "markdown",
   "metadata": {}
  },
  {
   "cell_type": "code",
   "execution_count": 2,
   "metadata": {},
   "outputs": [
    {
     "output_type": "stream",
     "name": "stdout",
     "text": [
      "i'nin değeri 0\n",
      "i'nin değeri 1\n",
      "i'nin değeri 2\n",
      "i'nin değeri 3\n",
      "i'nin değeri 4\n",
      "i'nin değeri 5\n",
      "i'nin değeri 6\n",
      "i'nin değeri 7\n",
      "i'nin değeri 8\n",
      "i'nin değeri 9\n"
     ]
    }
   ],
   "source": [
    "# Döngüde i değerlerini ekrana yazdırma\n",
    "\n",
    "i = 0 \n",
    "\n",
    "while (i < 10):\n",
    "    print(\"i'nin değeri\",i)\n",
    "    i += 1 # Koşulun bir süre sonra False olması için gerekli - Unutmayalım"
   ]
  },
  {
   "cell_type": "code",
   "execution_count": 4,
   "metadata": {},
   "outputs": [
    {
     "output_type": "stream",
     "name": "stdout",
     "text": [
      "Python Öğreniyorum\nPython Öğreniyorum\nPython Öğreniyorum\nPython Öğreniyorum\nPython Öğreniyorum\nPython Öğreniyorum\nPython Öğreniyorum\nPython Öğreniyorum\nPython Öğreniyorum\nPython Öğreniyorum\nPython Öğreniyorum\nPython Öğreniyorum\nPython Öğreniyorum\nPython Öğreniyorum\nPython Öğreniyorum\nPython Öğreniyorum\nPython Öğreniyorum\nPython Öğreniyorum\nPython Öğreniyorum\nPython Öğreniyorum\nPython Öğreniyorum\nPython Öğreniyorum\nPython Öğreniyorum\nPython Öğreniyorum\nPython Öğreniyorum\nPython Öğreniyorum\nPython Öğreniyorum\nPython Öğreniyorum\nPython Öğreniyorum\nPython Öğreniyorum\nPython Öğreniyorum\nPython Öğreniyorum\nPython Öğreniyorum\nPython Öğreniyorum\nPython Öğreniyorum\nPython Öğreniyorum\nPython Öğreniyorum\nPython Öğreniyorum\nPython Öğreniyorum\nPython Öğreniyorum\n"
     ]
    }
   ],
   "source": [
    "# Ekrana 40 defa \"Python Öğreniyorum\" yazdıralım.\n",
    "i = 0\n",
    "\n",
    "while (i < 40):\n",
    "    print(\"Python Öğreniyorum\")\n",
    "    i +=1"
   ]
  },
  {
   "source": [
    "### Listelerde gezinmek için while döngüsü."
   ],
   "cell_type": "markdown",
   "metadata": {}
  },
  {
   "cell_type": "code",
   "execution_count": 1,
   "metadata": {},
   "outputs": [
    {
     "output_type": "stream",
     "name": "stdout",
     "text": [
      "index: 0 Liste: 1\nindex: 1 Liste: 2\nindex: 2 Liste: 3\nindex: 3 Liste: 4\nindex: 4 Liste: 5\n"
     ]
    }
   ],
   "source": [
    "liste=[1,2,3,4,5]\n",
    "index=0\n",
    "\n",
    "while(index <len(liste)):\n",
    "    print(\"index:\",index,\"Liste:\",liste[index])\n",
    "    index +=1\n"
   ]
  },
  {
   "source": [
    "### Sonsuz Döngü Olayları\n",
    "\n",
    "Eğer ***While*** Döngüsü kullanırken yazdığımız koşul hiçbir zaman ***False*** olmassa döngü bitmez ve sonsuza kadar devam eder."
   ],
   "cell_type": "markdown",
   "metadata": {}
  },
  {
   "cell_type": "code",
   "execution_count": null,
   "metadata": {},
   "outputs": [],
   "source": [
    "# Bu kodu çaıştırmayalım. Jupyter sıkıntı çıkarabilir :)\n",
    "i = 0 \n",
    "while (i < 10):\n",
    "    print(i)\n",
    "    # i değişkenini artırma işlemi yapmadığımız için i değişkeninin değeri sürekli 0 kalıyor \n",
    "    # ve döngü koşulu sürekli True kalıyor.\n",
    "    "
   ]
  },
  {
   "source": [
    "# Range\n",
    "Range komutu verdiğimiz iki değer arasını bize liste olarak verir."
   ],
   "cell_type": "markdown",
   "metadata": {}
  },
  {
   "cell_type": "code",
   "execution_count": null,
   "metadata": {},
   "outputs": [],
   "source": [
    "range(0,20) # 0'dan 20' a kadar (dahil değil) sayı dizisi oluşturur."
   ]
  },
  {
   "cell_type": "code",
   "execution_count": 8,
   "metadata": {},
   "outputs": [
    {
     "output_type": "stream",
     "name": "stdout",
     "text": [
      "0 1 2 3 4 5 6 7 8 9 10 11 12 13 14 15 16 17 18 19 20\n"
     ]
    }
   ],
   "source": [
    "print(*range(0,21)) #yazdırmak için range'in yanına * işareti koymamamız gerekir"
   ]
  },
  {
   "cell_type": "code",
   "execution_count": 11,
   "metadata": {},
   "outputs": [
    {
     "output_type": "execute_result",
     "data": {
      "text/plain": [
       "[0, 1, 2, 3, 4, 5, 6, 7, 8, 9, 10, 11, 12, 13, 14, 15, 16, 17, 18, 19, 20]"
      ]
     },
     "metadata": {},
     "execution_count": 11
    }
   ],
   "source": [
    "liste=list(range(0,21)) #Bu şekilde direkt liste biçimine dönüştürebilliriz\n",
    "liste"
   ]
  },
  {
   "cell_type": "code",
   "execution_count": 13,
   "metadata": {},
   "outputs": [
    {
     "output_type": "stream",
     "name": "stdout",
     "text": [
      "5 7 9 11 13 15 17 19\n"
     ]
    }
   ],
   "source": [
    "print(*range(5,21,2)) #5 ten 21 e kadar olan sayılaru 2şer 2şer atlayarak yazdır"
   ]
  },
  {
   "cell_type": "code",
   "execution_count": 14,
   "metadata": {},
   "outputs": [
    {
     "output_type": "stream",
     "name": "stdout",
     "text": [
      "21 20 19 18 17 16 15 14 13 12 11 10 9 8 7 6 5 4 3 2 1\n"
     ]
    }
   ],
   "source": [
    "print(*range(21,0,-1)) # 21 den 0 a geri giderek listele"
   ]
  },
  {
   "cell_type": "code",
   "execution_count": 16,
   "metadata": {},
   "outputs": [
    {
     "output_type": "stream",
     "name": "stdout",
     "text": [
      "0\n1\n2\n3\n4\n5\n"
     ]
    }
   ],
   "source": [
    "#for komutuyla listelerde dolaştığımuz gibi range'in içinde de dolaşabiliriz.\n",
    "for i in range(0,6):\n",
    "    print(i)"
   ]
  },
  {
   "cell_type": "code",
   "execution_count": 18,
   "metadata": {},
   "outputs": [
    {
     "output_type": "stream",
     "name": "stdout",
     "text": [
      "\n#\n##\n###\n####\n#####\n######\n#######\n########\n#########\n"
     ]
    }
   ],
   "source": [
    "#yazdığımız sayıyı stringle çarparak böyle bir görüntü oluşturabliriz\n",
    "for i in range(0,10):\n",
    "    print(\"#\" * i)"
   ]
  },
  {
   "cell_type": "code",
   "execution_count": null,
   "metadata": {},
   "outputs": [],
   "source": []
  }
 ]
}