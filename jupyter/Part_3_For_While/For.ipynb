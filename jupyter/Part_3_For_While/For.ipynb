{
 "metadata": {
  "language_info": {
   "codemirror_mode": {
    "name": "ipython",
    "version": 3
   },
   "file_extension": ".py",
   "mimetype": "text/x-python",
   "name": "python",
   "nbconvert_exporter": "python",
   "pygments_lexer": "ipython3",
   "version": "3.8.5"
  },
  "orig_nbformat": 2,
  "kernelspec": {
   "name": "python385jvsc74a57bd0a8f61be024eba58adef938c9aa1e29e02cb3dece83a5348b1a2dafd16a070453",
   "display_name": "Python 3.8.5 64-bit ('base': conda)"
  }
 },
 "nbformat": 4,
 "nbformat_minor": 2,
 "cells": [
  {
   "source": [
    "# For Dongüsü\n",
    "\n",
    "### in Metodu\n",
    "\n",
    "Pythondaki *in* operatörü , bir elemanın başka bir listede,demette veya stringte (karakter dizileri) bulunup bulunmadığını kontrol eder.\n"
   ],
   "cell_type": "markdown",
   "metadata": {}
  },
  {
   "cell_type": "code",
   "execution_count": 1,
   "metadata": {},
   "outputs": [
    {
     "output_type": "execute_result",
     "data": {
      "text/plain": [
       "True"
      ]
     },
     "metadata": {},
     "execution_count": 1
    }
   ],
   "source": [
    "\"a\" in \"Merhaba\""
   ]
  },
  {
   "cell_type": "code",
   "execution_count": 2,
   "metadata": {},
   "outputs": [
    {
     "output_type": "execute_result",
     "data": {
      "text/plain": [
       "True"
      ]
     },
     "metadata": {},
     "execution_count": 2
    }
   ],
   "source": [
    "4 in [1,2,3,4]"
   ]
  },
  {
   "source": [
    "## for Döngüsü\n",
    "\n",
    "for Döngüsü ,  listelerin ,demetlerin, stringlerin ve hatta sözlüklerin üzerinde dolaşmamızı sağlayan bir döngü türüdür. Yapısı şu şekildedir.\n",
    "\n",
    "\n",
    "            for eleman in veri_yapısı(liste,demet vs):\n",
    "                Yapılacak İşlemler\n",
    "Bu yapı bize şunu söyler;\n",
    "\n",
    "            eleman değişkeni her döngünün başında listenin,demetin vs. her bir elemanına eşit olacak ve her döngüde \n",
    "            bu elemanla işlem yapılacak."
   ],
   "cell_type": "markdown",
   "metadata": {}
  },
  {
   "source": [
    "### Listeler Üzerinde Gezinmek"
   ],
   "cell_type": "markdown",
   "metadata": {}
  },
  {
   "cell_type": "code",
   "execution_count": 6,
   "metadata": {},
   "outputs": [
    {
     "output_type": "stream",
     "name": "stdout",
     "text": [
      "Eleman: 1\nEleman: 2\nEleman: 3\nEleman: 4\nEleman: 5\nEleman: 6\nEleman: 7\nEleman: 8\nEleman: 9\n"
     ]
    }
   ],
   "source": [
    "liste =[1,2,3,4,5,6,7,8,9]\n",
    "\n",
    "for eleman in liste:\n",
    "    print(\"Eleman:\",eleman)"
   ]
  },
  {
   "cell_type": "code",
   "execution_count": 10,
   "metadata": {},
   "outputs": [
    {
     "output_type": "stream",
     "name": "stdout",
     "text": [
      "Eleman:1 toplam:1\nEleman:2 toplam:3\nEleman:3 toplam:6\nEleman:4 toplam:10\nEleman:5 toplam:15\nEleman:6 toplam:21\nEleman:7 toplam:28\nEleman:8 toplam:36\nEleman:9 toplam:45\n"
     ]
    }
   ],
   "source": [
    "#Liste elemanlarının toplamı\n",
    "liste=[1,2,3,4,5,6,7,8,9]\n",
    "toplam=0\n",
    "for eleman in liste:\n",
    "    toplam +=eleman\n",
    "    print(\"Eleman:{} toplam:{}\".format(eleman,toplam))    "
   ]
  },
  {
   "cell_type": "code",
   "execution_count": 11,
   "metadata": {},
   "outputs": [
    {
     "output_type": "stream",
     "name": "stdout",
     "text": [
      "2\n4\n6\n8\n"
     ]
    }
   ],
   "source": [
    "#Çift sayıları gösterme\n",
    "liste = [1,2,3,4,5,6,7,8,9]\n",
    "\n",
    "for eleman in liste:\n",
    "    if eleman % 2 == 0:\n",
    "        print(eleman)"
   ]
  },
  {
   "source": [
    "### Karakter Dizileri Üzerinde Gezinmek (Stringler)"
   ],
   "cell_type": "markdown",
   "metadata": {}
  },
  {
   "cell_type": "code",
   "execution_count": 12,
   "metadata": {},
   "outputs": [
    {
     "output_type": "stream",
     "name": "stdout",
     "text": [
      "P\ny\nt\nh\no\nn\n"
     ]
    }
   ],
   "source": [
    "s =  \"Python\"\n",
    "for karakter in s:\n",
    "    print(karakter)"
   ]
  },
  {
   "source": [
    "Bu stringlerle matematik işlemlerini de yapabiliriz"
   ],
   "cell_type": "markdown",
   "metadata": {}
  },
  {
   "cell_type": "code",
   "execution_count": 15,
   "metadata": {},
   "outputs": [
    {
     "output_type": "stream",
     "name": "stdout",
     "text": [
      "PP\nPPP\nyy\nyyy\ntt\nttt\nhh\nhhh\noo\nooo\nnn\nnnn\n"
     ]
    }
   ],
   "source": [
    "s = \"Python\"\n",
    "for eleman in s:\n",
    "    print(eleman+eleman)\n",
    "    print(eleman*3)"
   ]
  },
  {
   "source": [
    "Tuplelarda listeler gibi kullanılabilir"
   ],
   "cell_type": "markdown",
   "metadata": {}
  },
  {
   "source": [
    "liste=[(1,2),(3,4),(5,6),(7,8)]\n",
    "for i in liste:\n",
    "    print(i)"
   ],
   "cell_type": "code",
   "metadata": {},
   "execution_count": 17,
   "outputs": [
    {
     "output_type": "stream",
     "name": "stdout",
     "text": [
      "(1, 2)\n(3, 4)\n(5, 6)\n(7, 8)\n"
     ]
    }
   ]
  },
  {
   "source": [
    "Bunları tek tek de çıkartabiliriz"
   ],
   "cell_type": "markdown",
   "metadata": {}
  },
  {
   "cell_type": "code",
   "execution_count": 23,
   "metadata": {},
   "outputs": [
    {
     "output_type": "stream",
     "name": "stdout",
     "text": [
      "a: 1 b: 2\na: 3 b: 4\na: 5 b: 6\na: 7 b: 8\n"
     ]
    }
   ],
   "source": [
    "liste=[(1,2),(3,4),(5,6),(7,8)]\n",
    "for j,k in liste:\n",
    "    print(\"a:\",j,\"b:\",k)"
   ]
  },
  {
   "source": [
    "### Sözlükler üzerinde gezinmek (Dictionary)\n",
    "\n",
    "For döngüsü Sözlüklerde gördüğümüz 3 adet metodla birlikte kullanılır ( keys() | values() | items() )"
   ],
   "cell_type": "markdown",
   "metadata": {}
  },
  {
   "cell_type": "code",
   "execution_count": 24,
   "metadata": {},
   "outputs": [
    {
     "output_type": "stream",
     "name": "stdout",
     "text": [
      "bir\niki\nüç\ndört\n"
     ]
    }
   ],
   "source": [
    "# Metodları kullanmadan sözlük üzerinde gezinmek - Sadece anahtarları alabiliyoruz.\n",
    "sözlük = {\"bir\":1,\"iki\":2,\"üç\":3,\"dört\":4}\n",
    "\n",
    "for eleman in sözlük:\n",
    "    print(eleman)"
   ]
  },
  {
   "cell_type": "code",
   "execution_count": 26,
   "metadata": {},
   "outputs": [
    {
     "output_type": "stream",
     "name": "stdout",
     "text": [
      "1\n2\n3\n4\n"
     ]
    }
   ],
   "source": [
    "sözlük = {\"bir\":1,\"iki\":2,\"üç\":3,\"dört\":4}\n",
    "\n",
    "for eleman in sözlük.values():\n",
    "    print(eleman)"
   ]
  },
  {
   "cell_type": "code",
   "execution_count": 27,
   "metadata": {},
   "outputs": [
    {
     "output_type": "stream",
     "name": "stdout",
     "text": [
      "('bir', 1)\n('iki', 2)\n('üç', 3)\n('dört', 4)\n"
     ]
    }
   ],
   "source": [
    "sözlük = {\"bir\":1,\"iki\":2,\"üç\":3,\"dört\":4}\n",
    "\n",
    "for eleman in sözlük.items():\n",
    "    print(eleman)"
   ]
  },
  {
   "cell_type": "code",
   "execution_count": null,
   "metadata": {},
   "outputs": [],
   "source": []
  }
 ]
}