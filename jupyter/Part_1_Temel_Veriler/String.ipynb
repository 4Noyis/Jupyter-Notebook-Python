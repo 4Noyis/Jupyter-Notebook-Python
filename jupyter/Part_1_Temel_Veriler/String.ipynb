{
 "metadata": {
  "language_info": {
   "codemirror_mode": {
    "name": "ipython",
    "version": 3
   },
   "file_extension": ".py",
   "mimetype": "text/x-python",
   "name": "python",
   "nbconvert_exporter": "python",
   "pygments_lexer": "ipython3",
   "version": "3.8.5"
  },
  "orig_nbformat": 2,
  "kernelspec": {
   "name": "python385jvsc74a57bd0a8f61be024eba58adef938c9aa1e29e02cb3dece83a5348b1a2dafd16a070453",
   "display_name": "Python 3.8.5 64-bit ('base': conda)"
  }
 },
 "nbformat": 4,
 "nbformat_minor": 2,
 "cells": [
  {
   "source": [
    "# String"
   ],
   "cell_type": "markdown",
   "metadata": {}
  },
  {
   "source": [
    "stringler tek tırnak('Berenalp'), çift tırnak(\"Berenalp\") ve 3 tırnak(\"\"\"Berenalp\"\"\") ile yazılabilir"
   ],
   "cell_type": "markdown",
   "metadata": {}
  },
  {
   "cell_type": "code",
   "execution_count": 2,
   "metadata": {},
   "outputs": [
    {
     "output_type": "execute_result",
     "data": {
      "text/plain": [
       "('Berenalp', 'Berenalp', 'Berenalp')"
      ]
     },
     "metadata": {},
     "execution_count": 2
    }
   ],
   "source": [
    "\"Berenalp\", 'Berenalp', \"\"\"Berenalp\"\"\""
   ]
  },
  {
   "source": [
    "### *String Indeksleme ve Parçalama*"
   ],
   "cell_type": "markdown",
   "metadata": {}
  },
  {
   "source": [
    "Stringler birer karakter dizileri oldukları için her bir karakterin aslında string içinde bir yeri vardır. Örnek olarak \"ali\" stringinde a,l ve i karakterlerinin yerleri indeks olarak adlandırılır. Stringlerin indekslenmesi \"0\" dan başlamaktadır."
   ],
   "cell_type": "markdown",
   "metadata": {}
  },
  {
   "cell_type": "code",
   "execution_count": 4,
   "metadata": {},
   "outputs": [
    {
     "output_type": "execute_result",
     "data": {
      "text/plain": [
       "'b'"
      ]
     },
     "metadata": {},
     "execution_count": 4
    }
   ],
   "source": [
    "#1.elemann 0 ile başlar ve 0,1,2,3... diye devam eder\n",
    "a = \"berenalp\"\n",
    "a[0]"
   ]
  },
  {
   "source": [
    "Pythonda stringler baştan olduğu gibi sondan da indekslenebilirler. Sondan başlayarak -1,-2 ... şeklinde indekslenirler"
   ],
   "cell_type": "markdown",
   "metadata": {}
  },
  {
   "cell_type": "code",
   "execution_count": 5,
   "metadata": {},
   "outputs": [
    {
     "output_type": "execute_result",
     "data": {
      "text/plain": [
       "'t'"
      ]
     },
     "metadata": {},
     "execution_count": 5
    }
   ],
   "source": [
    "# Sondaki eleman \"-1\" eleman\n",
    "a = \"murat\"\n",
    "a[-1]"
   ]
  },
  {
   "source": [
    "### *Uzun bi stringinn belli bir bölümünü alma*"
   ],
   "cell_type": "markdown",
   "metadata": {}
  },
  {
   "source": [
    "Bunun için **indeksleri**, **:** ve **[]** işaretini kullanacağız. Formülümüz şu şekilde ;\n",
    "\n",
    "*[başlama indeksi : bitiş indeksi : atlama değeri]*"
   ],
   "cell_type": "markdown",
   "metadata": {}
  },
  {
   "cell_type": "code",
   "execution_count": 7,
   "metadata": {},
   "outputs": [
    {
     "output_type": "execute_result",
     "data": {
      "text/plain": [
       "'on Pro'"
      ]
     },
     "metadata": {},
     "execution_count": 7
    }
   ],
   "source": [
    "a=\"Python Programlama Dili\"\n",
    "# 4. indeksten başla 10.indekse kadar(dahil değil) al.\n",
    "a[4:10]"
   ]
  },
  {
   "cell_type": "code",
   "execution_count": 8,
   "metadata": {},
   "outputs": [
    {
     "output_type": "execute_result",
     "data": {
      "text/plain": [
       "'Python Pro'"
      ]
     },
     "metadata": {},
     "execution_count": 8
    }
   ],
   "source": [
    "# Başlangıç değeri belirtilmemişse en baştan başlayarak alır.\n",
    "a[:10]"
   ]
  },
  {
   "cell_type": "code",
   "execution_count": 9,
   "metadata": {},
   "outputs": [
    {
     "output_type": "execute_result",
     "data": {
      "text/plain": [
       "'on Programlama Dili'"
      ]
     },
     "metadata": {},
     "execution_count": 9
    }
   ],
   "source": [
    "# Bitiş değeri belirtilmemişse en sonuna kadar alır.\n",
    "a[4:]"
   ]
  },
  {
   "cell_type": "code",
   "execution_count": 10,
   "metadata": {},
   "outputs": [
    {
     "output_type": "execute_result",
     "data": {
      "text/plain": [
       "'Python Programlama Dili'"
      ]
     },
     "metadata": {},
     "execution_count": 10
    }
   ],
   "source": [
    "# İki değer de belirtilmemişse tüm stringi al.\n",
    "a[:]"
   ]
  },
  {
   "cell_type": "code",
   "execution_count": 11,
   "metadata": {},
   "outputs": [
    {
     "output_type": "execute_result",
     "data": {
      "text/plain": [
       "'Python Programlama Dil'"
      ]
     },
     "metadata": {},
     "execution_count": 11
    }
   ],
   "source": [
    "#Son karaktere kadar al.\n",
    "a[:-1]"
   ]
  },
  {
   "cell_type": "code",
   "execution_count": 12,
   "metadata": {},
   "outputs": [
    {
     "output_type": "execute_result",
     "data": {
      "text/plain": [
       "'Pto rgalm ii'"
      ]
     },
     "metadata": {},
     "execution_count": 12
    }
   ],
   "source": [
    "# Baştan sona 2 değer atlaya atlaya stringi al.\n",
    "a[::2]"
   ]
  },
  {
   "cell_type": "code",
   "execution_count": 13,
   "metadata": {},
   "outputs": [
    {
     "output_type": "execute_result",
     "data": {
      "text/plain": [
       "'oPg'"
      ]
     },
     "metadata": {},
     "execution_count": 13
    }
   ],
   "source": [
    "# 4.indeksten 12'nci indekse 3'er atlayarak stringi al.\n",
    "a[4:12:3]"
   ]
  },
  {
   "cell_type": "code",
   "execution_count": 14,
   "metadata": {},
   "outputs": [
    {
     "output_type": "execute_result",
     "data": {
      "text/plain": [
       "'iliD amalmargorP nohtyP'"
      ]
     },
     "metadata": {},
     "execution_count": 14
    }
   ],
   "source": [
    "# Baştan sona -1 atlayarak stringi al. (String'i ters çevirme)\n",
    "a[::-1]"
   ]
  },
  {
   "source": [
    "### *Strig özellikleri*"
   ],
   "cell_type": "markdown",
   "metadata": {}
  },
  {
   "source": [
    "Bir stringin uzuluğunu bulmak için **Length** in kısaltılmışı *Len()* kullanırız"
   ],
   "cell_type": "markdown",
   "metadata": {}
  },
  {
   "cell_type": "code",
   "execution_count": 15,
   "metadata": {},
   "outputs": [
    {
     "output_type": "execute_result",
     "data": {
      "text/plain": [
       "23"
      ]
     },
     "metadata": {},
     "execution_count": 15
    }
   ],
   "source": [
    "# len() fonksiyonunu kullanma.\n",
    "a = \"Python Programlama Dili\"\n",
    "len(a)"
   ]
  },
  {
   "source": [
    "Phytonda stringlerle toplama ve çarpma yapabiliriz"
   ],
   "cell_type": "markdown",
   "metadata": {}
  },
  {
   "cell_type": "code",
   "execution_count": 16,
   "metadata": {},
   "outputs": [
    {
     "output_type": "execute_result",
     "data": {
      "text/plain": [
       "'Python Programlama Dili'"
      ]
     },
     "metadata": {},
     "execution_count": 16
    }
   ],
   "source": [
    "# Stringleri toplayalım yani birbirine ekleyelim.\n",
    "a = \"Python \"\n",
    "b = \"Programlama \"\n",
    "c = \"Dili\"\n",
    "a + b + c"
   ]
  },
  {
   "cell_type": "code",
   "execution_count": 19,
   "metadata": {},
   "outputs": [
    {
     "output_type": "execute_result",
     "data": {
      "text/plain": [
       "'Berenalp Beygirci'"
      ]
     },
     "metadata": {},
     "execution_count": 19
    }
   ],
   "source": [
    "a=\"Berenalp \"\n",
    "a=a+\"Beygirci\"\n",
    "a"
   ]
  },
  {
   "cell_type": "code",
   "execution_count": 20,
   "metadata": {},
   "outputs": [
    {
     "output_type": "execute_result",
     "data": {
      "text/plain": [
       "'Berenalp Berenalp Berenalp '"
      ]
     },
     "metadata": {},
     "execution_count": 20
    }
   ],
   "source": [
    "\"Berenalp \"*3"
   ]
  },
  {
   "source": [
    "**Stringlerde belli bir karakteri direkt olarak değiştirmeyiz**"
   ],
   "cell_type": "markdown",
   "metadata": {}
  },
  {
   "cell_type": "code",
   "execution_count": 21,
   "metadata": {},
   "outputs": [],
   "source": [
    "a=\"Berenalp\""
   ]
  },
  {
   "cell_type": "code",
   "execution_count": 22,
   "metadata": {},
   "outputs": [
    {
     "output_type": "error",
     "ename": "TypeError",
     "evalue": "'str' object does not support item assignment",
     "traceback": [
      "\u001b[1;31m---------------------------------------------------------------------------\u001b[0m",
      "\u001b[1;31mTypeError\u001b[0m                                 Traceback (most recent call last)",
      "\u001b[1;32m<ipython-input-22-b5cda79edda7>\u001b[0m in \u001b[0;36m<module>\u001b[1;34m\u001b[0m\n\u001b[1;32m----> 1\u001b[1;33m \u001b[0ma\u001b[0m\u001b[1;33m[\u001b[0m\u001b[1;36m0\u001b[0m\u001b[1;33m]\u001b[0m\u001b[1;33m=\u001b[0m\u001b[1;34m\"l\"\u001b[0m\u001b[1;33m\u001b[0m\u001b[1;33m\u001b[0m\u001b[0m\n\u001b[0m",
      "\u001b[1;31mTypeError\u001b[0m: 'str' object does not support item assignment"
     ]
    }
   ],
   "source": [
    "a[0]=\"l\""
   ]
  }
 ]
}