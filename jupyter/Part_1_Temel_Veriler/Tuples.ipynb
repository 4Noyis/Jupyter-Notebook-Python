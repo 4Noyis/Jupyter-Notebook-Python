{
 "metadata": {
  "language_info": {
   "codemirror_mode": {
    "name": "ipython",
    "version": 3
   },
   "file_extension": ".py",
   "mimetype": "text/x-python",
   "name": "python",
   "nbconvert_exporter": "python",
   "pygments_lexer": "ipython3",
   "version": "3.8.5"
  },
  "orig_nbformat": 2,
  "kernelspec": {
   "name": "python385jvsc74a57bd0a8f61be024eba58adef938c9aa1e29e02cb3dece83a5348b1a2dafd16a070453",
   "display_name": "Python 3.8.5 64-bit ('base': conda)"
  }
 },
 "nbformat": 4,
 "nbformat_minor": 2,
 "cells": [
  {
   "source": [
    "# Tuple(Demetler)\n",
    "Tip olarak listelere benzerler fakat demetler ***değiştirilemez***.\n",
    "\n",
    "Demet oluşturmak için *()* kullanılır."
   ],
   "cell_type": "markdown",
   "metadata": {}
  },
  {
   "cell_type": "code",
   "execution_count": 1,
   "metadata": {},
   "outputs": [
    {
     "output_type": "execute_result",
     "data": {
      "text/plain": [
       "(1, 2, 3, 4, 5, 6, 7, 8, 9)"
      ]
     },
     "metadata": {},
     "execution_count": 1
    }
   ],
   "source": [
    "demet = (1,2,3,4,5,6,7,8,9)\n",
    "demet"
   ]
  },
  {
   "source": [
    "listelerde kullanılan çoğu özellik kullanılabilir\n",
    "\n",
    "**type, len, indexe ulaşım[]** "
   ],
   "cell_type": "markdown",
   "metadata": {}
  },
  {
   "source": [
    "## Bazı Tuple Metodları"
   ],
   "cell_type": "markdown",
   "metadata": {}
  },
  {
   "source": [
    "### Index Metodu\n",
    "aradığımız verinin hangi indexte olduğunu bulmamıza yarıyor\n"
   ],
   "cell_type": "markdown",
   "metadata": {}
  },
  {
   "cell_type": "code",
   "execution_count": 3,
   "metadata": {},
   "outputs": [
    {
     "output_type": "execute_result",
     "data": {
      "text/plain": [
       "3"
      ]
     },
     "metadata": {},
     "execution_count": 3
    }
   ],
   "source": [
    "# Demeti oluşturalım.\n",
    "demet = (1,2,3,\"Mustafa\",\"Murat\",\"Coşkun\")\n",
    "# \"Mustafa\" elemanının indeksini buluyoruz.\n",
    "demet.index(\"Mustafa\")"
   ]
  },
  {
   "cell_type": "code",
   "execution_count": 4,
   "metadata": {},
   "outputs": [
    {
     "output_type": "execute_result",
     "data": {
      "text/plain": [
       "2"
      ]
     },
     "metadata": {},
     "execution_count": 4
    }
   ],
   "source": [
    "demet.index(3)"
   ]
  },
  {
   "source": [
    "### Count Metodu\n",
    "Bu metodla aradağımız değerin tuple da kaç tane olduğunu görebiliyoruz"
   ],
   "cell_type": "markdown",
   "metadata": {}
  },
  {
   "cell_type": "code",
   "execution_count": 5,
   "metadata": {},
   "outputs": [
    {
     "output_type": "execute_result",
     "data": {
      "text/plain": [
       "(1, 2, 3, 4, 5, 6, 7, 8, 9, 0, 1, 2, 1, 122, 22, 1, 1, 1, 1)"
      ]
     },
     "metadata": {},
     "execution_count": 5
    }
   ],
   "source": [
    "beren =(1,2,3,4,5,6,7,8,9,0,1,2,1,122,22,1,1,1,1,)\n",
    "beren"
   ]
  },
  {
   "cell_type": "code",
   "execution_count": 6,
   "metadata": {},
   "outputs": [
    {
     "output_type": "execute_result",
     "data": {
      "text/plain": [
       "7"
      ]
     },
     "metadata": {},
     "execution_count": 6
    }
   ],
   "source": [
    "beren.count(1)"
   ]
  },
  {
   "cell_type": "code",
   "execution_count": null,
   "metadata": {},
   "outputs": [],
   "source": []
  }
 ]
}