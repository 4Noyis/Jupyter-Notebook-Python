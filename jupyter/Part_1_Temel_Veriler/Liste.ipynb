{
 "metadata": {
  "language_info": {
   "codemirror_mode": {
    "name": "ipython",
    "version": 3
   },
   "file_extension": ".py",
   "mimetype": "text/x-python",
   "name": "python",
   "nbconvert_exporter": "python",
   "pygments_lexer": "ipython3",
   "version": "3.8.5"
  },
  "orig_nbformat": 2,
  "kernelspec": {
   "name": "python385jvsc74a57bd0a8f61be024eba58adef938c9aa1e29e02cb3dece83a5348b1a2dafd16a070453",
   "display_name": "Python 3.8.5 64-bit ('base': conda)"
  }
 },
 "nbformat": 4,
 "nbformat_minor": 2,
 "cells": [
  {
   "source": [
    "# Listeler\n",
    "Listeler stringler gibi işlem yapabildiğimiz bir veri tipidir fakat stringlerden farklı olarak listler değiştirilebillir veri tipleridir."
   ],
   "cell_type": "markdown",
   "metadata": {}
  },
  {
   "source": [
    "## Liste oluşturma\n",
    "Listeler bir *[]* koşeli parantez içine veriler yazılarak oluşturulur."
   ],
   "cell_type": "markdown",
   "metadata": {}
  },
  {
   "cell_type": "code",
   "execution_count": 2,
   "metadata": {},
   "outputs": [
    {
     "output_type": "execute_result",
     "data": {
      "text/plain": [
       "[3, 4, 5, 6, 'Elma', 3.14, 5.324]"
      ]
     },
     "metadata": {},
     "execution_count": 2
    }
   ],
   "source": [
    "# liste değişkeni. Değişik veri tiplerinden değerleri saklayabiliyoruz.\n",
    "liste =  [3,4,5,6,\"Elma\",3.14,5.324]\n",
    "liste"
   ]
  },
  {
   "source": [
    "### Boş Listeler"
   ],
   "cell_type": "markdown",
   "metadata": {}
  },
  {
   "cell_type": "code",
   "execution_count": 3,
   "metadata": {},
   "outputs": [
    {
     "output_type": "execute_result",
     "data": {
      "text/plain": [
       "[]"
      ]
     },
     "metadata": {},
     "execution_count": 3
    }
   ],
   "source": [
    "# Boş liste . list() fonksiyonuyla da oluşturulabilir.\n",
    "bos_liste = list()\n",
    "bos_liste"
   ]
  },
  {
   "cell_type": "code",
   "execution_count": 4,
   "metadata": {},
   "outputs": [
    {
     "output_type": "execute_result",
     "data": {
      "text/plain": [
       "[]"
      ]
     },
     "metadata": {},
     "execution_count": 4
    }
   ],
   "source": [
    "# Boş liste\n",
    "bos_liste = []\n",
    "bos_liste"
   ]
  },
  {
   "cell_type": "code",
   "execution_count": 5,
   "metadata": {},
   "outputs": [
    {
     "output_type": "execute_result",
     "data": {
      "text/plain": [
       "12"
      ]
     },
     "metadata": {},
     "execution_count": 5
    }
   ],
   "source": [
    "#len fonksiyonu ile listenin uzunluğunu öğrenebiliriz\n",
    "liste3 = [3,4,5,6,7,8,9,0,0,0,0,0]\n",
    "len(liste3)"
   ]
  },
  {
   "source": [
    "Stringller *lis()* ile listeye dönüşebilirler.    "
   ],
   "cell_type": "markdown",
   "metadata": {}
  },
  {
   "cell_type": "code",
   "execution_count": 7,
   "metadata": {},
   "outputs": [
    {
     "output_type": "execute_result",
     "data": {
      "text/plain": [
       "['B', 'e', 'r', 'e', 'n', 'a', 'l', 'p']"
      ]
     },
     "metadata": {},
     "execution_count": 7
    }
   ],
   "source": [
    "b= \"Berenalp\"\n",
    "list(b)"
   ]
  },
  {
   "source": [
    "### Listeleri indeksleme ve Parçalama \n",
    "bu kısım tamamıyla stringlerle aynı \n"
   ],
   "cell_type": "markdown",
   "metadata": {}
  },
  {
   "cell_type": "code",
   "execution_count": 10,
   "metadata": {},
   "outputs": [
    {
     "output_type": "execute_result",
     "data": {
      "text/plain": [
       "45"
      ]
     },
     "metadata": {},
     "execution_count": 10
    }
   ],
   "source": [
    "liste = [0,1,2,3,4,5,6,7,8,45]\n",
    "#Sonuncu Eleman \n",
    "liste[len(liste)-1]"
   ]
  },
  {
   "cell_type": "code",
   "execution_count": 11,
   "metadata": {},
   "outputs": [
    {
     "output_type": "execute_result",
     "data": {
      "text/plain": [
       "[0, 1, 2, 3]"
      ]
     },
     "metadata": {},
     "execution_count": 11
    }
   ],
   "source": [
    "# Baştan 4. indekse kadar (dahil değil)\n",
    "liste[:4]"
   ]
  },
  {
   "source": [
    "### Temel Liste Metodları ve Işlemleri\n",
    "Listelerde dört işlemi aynı stringlerdeki gibi yapabiliriz. Listeler direkt olarak değiştirilebilir."
   ],
   "cell_type": "markdown",
   "metadata": {}
  },
  {
   "cell_type": "code",
   "execution_count": 12,
   "metadata": {},
   "outputs": [
    {
     "output_type": "execute_result",
     "data": {
      "text/plain": [
       "[1, 2, 3, 4, 5, 6, 7, 8, 9, 10]"
      ]
     },
     "metadata": {},
     "execution_count": 12
    }
   ],
   "source": [
    "liste1 =  [1,2,3,4,5]\n",
    "liste2 =  [6,7,8,9,10]\n",
    "liste1 + liste2"
   ]
  },
  {
   "cell_type": "code",
   "execution_count": 13,
   "metadata": {},
   "outputs": [
    {
     "output_type": "execute_result",
     "data": {
      "text/plain": [
       "[1, 2, 3, 4, 'Murat']"
      ]
     },
     "metadata": {},
     "execution_count": 13
    }
   ],
   "source": [
    "liste = [1,2,3,4]\n",
    "liste =  liste + [\"Murat\"]\n",
    "liste"
   ]
  },
  {
   "cell_type": "code",
   "execution_count": 15,
   "metadata": {},
   "outputs": [
    {
     "output_type": "execute_result",
     "data": {
      "text/plain": [
       "[10, 2, 3, 4, 'Murat']"
      ]
     },
     "metadata": {},
     "execution_count": 15
    }
   ],
   "source": [
    "# Listeler direk olarak değiştirilebilirler.\n",
    "liste[0] = 10\n",
    "liste"
   ]
  },
  {
   "cell_type": "code",
   "execution_count": 16,
   "metadata": {},
   "outputs": [
    {
     "output_type": "execute_result",
     "data": {
      "text/plain": [
       "[10, 2, 56, 65, 'Murat']"
      ]
     },
     "metadata": {},
     "execution_count": 16
    }
   ],
   "source": [
    "liste[2:4]= [56, 65]\n",
    "liste"
   ]
  },
  {
   "source": [
    "## Metodlar\n",
    "### Append metodu \n",
    "verdiğiniz değeri listeye eklemeye yarar"
   ],
   "cell_type": "markdown",
   "metadata": {}
  },
  {
   "cell_type": "code",
   "execution_count": 18,
   "metadata": {},
   "outputs": [
    {
     "output_type": "execute_result",
     "data": {
      "text/plain": [
       "[3, 4, 5, 6, 9]"
      ]
     },
     "metadata": {},
     "execution_count": 18
    }
   ],
   "source": [
    "liste=[3,4,5,6]\n",
    "liste.append(9)\n",
    "liste"
   ]
  },
  {
   "cell_type": "code",
   "execution_count": 19,
   "metadata": {},
   "outputs": [
    {
     "output_type": "execute_result",
     "data": {
      "text/plain": [
       "[3, 4, 5, 6, 9, 'Noyis']"
      ]
     },
     "metadata": {},
     "execution_count": 19
    }
   ],
   "source": [
    "liste.append(\"Noyis\")\n",
    "liste"
   ]
  },
  {
   "source": [
    "### Pop metodu\n",
    "içine değer vermezsek listenin son indeksindeki elemanı, değer verirsek verdiğimiz değere karşılık gelen indeksteki elemanı listeden atar ve attığı elemanı ekrana basar."
   ],
   "cell_type": "markdown",
   "metadata": {}
  },
  {
   "cell_type": "code",
   "execution_count": 21,
   "metadata": {},
   "outputs": [
    {
     "output_type": "execute_result",
     "data": {
      "text/plain": [
       "5"
      ]
     },
     "metadata": {},
     "execution_count": 21
    }
   ],
   "source": [
    "liste = [1,2,3,4,5]\n",
    "liste.pop()\n"
   ]
  },
  {
   "cell_type": "code",
   "execution_count": 22,
   "metadata": {},
   "outputs": [
    {
     "output_type": "execute_result",
     "data": {
      "text/plain": [
       "[1, 2, 3, 4]"
      ]
     },
     "metadata": {},
     "execution_count": 22
    }
   ],
   "source": [
    "liste"
   ]
  },
  {
   "cell_type": "code",
   "execution_count": 23,
   "metadata": {},
   "outputs": [
    {
     "output_type": "execute_result",
     "data": {
      "text/plain": [
       "3"
      ]
     },
     "metadata": {},
     "execution_count": 23
    }
   ],
   "source": [
    "eleman= liste.pop(2)\n",
    "eleman"
   ]
  },
  {
   "cell_type": "code",
   "execution_count": 24,
   "metadata": {},
   "outputs": [
    {
     "output_type": "execute_result",
     "data": {
      "text/plain": [
       "[1, 2, 4]"
      ]
     },
     "metadata": {},
     "execution_count": 24
    }
   ],
   "source": [
    "liste"
   ]
  },
  {
   "source": [
    "### Sort Metodu\n",
    "Sort Metodu listenin elemanlarını sıralamaya yarar."
   ],
   "cell_type": "markdown",
   "metadata": {}
  },
  {
   "cell_type": "code",
   "execution_count": 25,
   "metadata": {},
   "outputs": [
    {
     "output_type": "execute_result",
     "data": {
      "text/plain": [
       "[1, 2, 3, 19, 23, 34, 56, 334]"
      ]
     },
     "metadata": {},
     "execution_count": 25
    }
   ],
   "source": [
    "liste = [34,1,56,334,23,2,3,19]\n",
    "liste.sort() # Küçükten büyüğe sıralar.\n",
    "liste"
   ]
  },
  {
   "cell_type": "code",
   "execution_count": 26,
   "metadata": {},
   "outputs": [
    {
     "output_type": "execute_result",
     "data": {
      "text/plain": [
       "[334, 56, 34, 23, 19, 3, 2, 1]"
      ]
     },
     "metadata": {},
     "execution_count": 26
    }
   ],
   "source": [
    "liste.sort(reverse = True) # Büyükten küçüğe sıralar.\n",
    "liste"
   ]
  },
  {
   "cell_type": "code",
   "execution_count": 27,
   "metadata": {},
   "outputs": [
    {
     "output_type": "execute_result",
     "data": {
      "text/plain": [
       "['Armut', 'Elma', 'Kiraz', 'Muz']"
      ]
     },
     "metadata": {},
     "execution_count": 27
    }
   ],
   "source": [
    "liste = [\"Elma\",\"Armut\",\"Muz\",\"Kiraz\"]\n",
    "liste.sort() # Alfabetic olarak küçükten büyüğe\n",
    "liste"
   ]
  },
  {
   "cell_type": "code",
   "execution_count": 28,
   "metadata": {},
   "outputs": [
    {
     "output_type": "execute_result",
     "data": {
      "text/plain": [
       "['Muz', 'Kiraz', 'Elma', 'Armut']"
      ]
     },
     "metadata": {},
     "execution_count": 28
    }
   ],
   "source": [
    "liste = [\"Elma\",\"Armut\",\"Muz\",\"Kiraz\"]\n",
    "liste.sort(reverse = True) # Alfabetic olarak büyükten küçüğe \n",
    "liste"
   ]
  },
  {
   "source": [
    "## Iç içe Listeler\n",
    "Listenin içine başka bir liste eklemek."
   ],
   "cell_type": "markdown",
   "metadata": {}
  },
  {
   "cell_type": "code",
   "execution_count": 29,
   "metadata": {},
   "outputs": [
    {
     "output_type": "execute_result",
     "data": {
      "text/plain": [
       "[[1, 2, 3], [4, 5, 6], [7, 8, 9]]"
      ]
     },
     "metadata": {},
     "execution_count": 29
    }
   ],
   "source": [
    "# 3 Tane liste oluşturalım.\n",
    "\n",
    "liste1 = [1,2,3]\n",
    "liste2 = [4,5,6]\n",
    "liste3 = [7,8,9]\n",
    "\n",
    "yeniliste = [liste1,liste2,liste3]\n",
    "yeniliste"
   ]
  },
  {
   "cell_type": "code",
   "execution_count": 30,
   "metadata": {},
   "outputs": [
    {
     "output_type": "execute_result",
     "data": {
      "text/plain": [
       "4"
      ]
     },
     "metadata": {},
     "execution_count": 30
    }
   ],
   "source": [
    "#2.listenin lik elemanı \n",
    "yeniliste[1][0]"
   ]
  },
  {
   "cell_type": "code",
   "execution_count": 31,
   "metadata": {},
   "outputs": [
    {
     "output_type": "stream",
     "name": "stdout",
     "text": [
      "[1, 2, 3, 4, 5]\n"
     ]
    }
   ],
   "source": [
    "liste = [1,2,3,4,5]\n",
    "liste * 3\n",
    "print(liste)"
   ]
  },
  {
   "cell_type": "code",
   "execution_count": null,
   "metadata": {},
   "outputs": [],
   "source": []
  }
 ]
}