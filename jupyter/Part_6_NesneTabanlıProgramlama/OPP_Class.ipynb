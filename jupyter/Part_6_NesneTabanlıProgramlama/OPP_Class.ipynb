{
 "metadata": {
  "language_info": {
   "codemirror_mode": {
    "name": "ipython",
    "version": 3
   },
   "file_extension": ".py",
   "mimetype": "text/x-python",
   "name": "python",
   "nbconvert_exporter": "python",
   "pygments_lexer": "ipython3",
   "version": "3.8.8"
  },
  "orig_nbformat": 4,
  "kernelspec": {
   "name": "python3",
   "display_name": "Python 3.8.8 64-bit ('base': conda)"
  },
  "interpreter": {
   "hash": "07efdcd4b820c98a756949507a4d29d7862823915ec7477944641bea022f4f62"
  }
 },
 "nbformat": 4,
 "nbformat_minor": 2,
 "cells": [
  {
   "source": [
    "# Class\n",
    "\n",
    "Classlar objelerimizi oluştururken  objelerin özelliklerini ve metodlarını tanımladığımız bir yapıdır ve her bir objeyi bu yapıya göre üretiriz."
   ],
   "cell_type": "markdown",
   "metadata": {}
  },
  {
   "cell_type": "code",
   "execution_count": 3,
   "metadata": {},
   "outputs": [],
   "source": [
    "# Yeni bir araba veri tipi oluşturma \n",
    "class araba():\n",
    "    model =  \"Renault Megane\"\n",
    "    renk = \"Gümüş\"            # Sınıfımızın özellikleri (attributes)\n",
    "    beygir_gücü = 110\n",
    "    silindir = 4"
   ]
  },
  {
   "source": [
    "Sınıfımızı Pythonda tanımladık. Bu sınftan objeyi aşağıdaki gibi oluşturuyoruz.\n",
    "\n",
    "**----------------------------------------------------------------------------------------------------------------------------**\n",
    "\n",
    "         obje_ismi = Sınıf_İsmi(parametreler(opsiyonel))\n",
    "         \n",
    "**----------------------------------------------------------------------------------------------------------------------------**"
   ],
   "cell_type": "markdown",
   "metadata": {}
  },
  {
   "cell_type": "code",
   "execution_count": 4,
   "metadata": {},
   "outputs": [],
   "source": [
    "araba1 = araba() # araba veri tipinden bir araba1 objesi oluşturduk."
   ]
  },
  {
   "cell_type": "code",
   "execution_count": 6,
   "metadata": {},
   "outputs": [
    {
     "output_type": "execute_result",
     "data": {
      "text/plain": [
       "<__main__.araba at 0x1fc96d44790>"
      ]
     },
     "metadata": {},
     "execution_count": 6
    }
   ],
   "source": [
    "araba1 #Objemimizin veri tipi araba"
   ]
  },
  {
   "cell_type": "code",
   "execution_count": 7,
   "metadata": {},
   "outputs": [
    {
     "output_type": "execute_result",
     "data": {
      "text/plain": [
       "__main__.araba"
      ]
     },
     "metadata": {},
     "execution_count": 7
    }
   ],
   "source": [
    "type(araba1)"
   ]
  },
  {
   "source": [
    "araba1 objesi artık sınıfta tanımladığımız bütün özelliklere(attributes) sahip olmuş oldu. araba1 objesinin özelliklerini göremk için. \n",
    "\n",
    "**--------------------------------------------------------------------------------------------------------------------------**\n",
    "\n",
    "            obje_ismi.özellik_ismi\n",
    "**--------------------------------------------------------------------------------------------------------------------------**"
   ],
   "cell_type": "markdown",
   "metadata": {}
  },
  {
   "cell_type": "code",
   "execution_count": 8,
   "metadata": {},
   "outputs": [
    {
     "output_type": "execute_result",
     "data": {
      "text/plain": [
       "'Renault Megane'"
      ]
     },
     "metadata": {},
     "execution_count": 8
    }
   ],
   "source": [
    "araba1.model"
   ]
  },
  {
   "cell_type": "code",
   "execution_count": 9,
   "metadata": {},
   "outputs": [
    {
     "output_type": "execute_result",
     "data": {
      "text/plain": [
       "'Gümüş'"
      ]
     },
     "metadata": {},
     "execution_count": 9
    }
   ],
   "source": [
    "araba1.renk"
   ]
  },
  {
   "source": [
    "araba2 =  Araba() #başka bir araba objesini aynı classtan oluşturduğumuz için aynı özelliklere sahip olacaktır. Çünkü oluşturuduğumuz sınıfın değerleri varsayılan olarak kabul edilir. Bunlara herhangi bir obje oluşturmadan da erişebilriz."
   ],
   "cell_type": "markdown",
   "metadata": {}
  },
  {
   "cell_type": "code",
   "execution_count": 12,
   "metadata": {},
   "outputs": [
    {
     "output_type": "execute_result",
     "data": {
      "text/plain": [
       "'Gümüş'"
      ]
     },
     "metadata": {},
     "execution_count": 12
    }
   ],
   "source": [
    "araba.renk"
   ]
  },
  {
   "source": [
    "Her bir objeyi farklı değerlerde oluşturmak için her bir objeyi oluştururken objelerin değerlerini göndermemiz gerekiyor bunun için init metodu kullanılır\n",
    "\n",
    "**--------------------------------------------------------------------------------------------------------------------------**\n",
    "\n",
    "            init()\n",
    "**--------------------------------------------------------------------------------------------------------------------------**"
   ],
   "cell_type": "markdown",
   "metadata": {}
  },
  {
   "cell_type": "code",
   "execution_count": 14,
   "metadata": {},
   "outputs": [
    {
     "output_type": "execute_result",
     "data": {
      "text/plain": [
       "['__class__',\n",
       " '__delattr__',\n",
       " '__dict__',\n",
       " '__dir__',\n",
       " '__doc__',\n",
       " '__eq__',\n",
       " '__format__',\n",
       " '__ge__',\n",
       " '__getattribute__',\n",
       " '__gt__',\n",
       " '__hash__',\n",
       " '__init__',\n",
       " '__init_subclass__',\n",
       " '__le__',\n",
       " '__lt__',\n",
       " '__module__',\n",
       " '__ne__',\n",
       " '__new__',\n",
       " '__reduce__',\n",
       " '__reduce_ex__',\n",
       " '__repr__',\n",
       " '__setattr__',\n",
       " '__sizeof__',\n",
       " '__str__',\n",
       " '__subclasshook__',\n",
       " '__weakref__',\n",
       " 'beygir_gücü',\n",
       " 'model',\n",
       " 'renk',\n",
       " 'silindir']"
      ]
     },
     "metadata": {},
     "execution_count": 14
    }
   ],
   "source": [
    "dir(araba1)"
   ]
  },
  {
   "source": [
    "Bunalar objemizin tüm özellikleri ve metodları. buradaki metodlar python tarafından otamatik olarak tanımlanır. \n",
    "\n",
    "Intit metodu pythonda yapıcı(constructor) fonksiyon olarak geçer. bu metod objelerimizi oluşturulurken otamatik olarak çağırılan ilk fonksiyondur. Bu metotdu özel olarak tanımlayarak objelermize farklı değerler oluşturabliriz."
   ],
   "cell_type": "markdown",
   "metadata": {}
  },
  {
   "cell_type": "code",
   "execution_count": 15,
   "metadata": {},
   "outputs": [],
   "source": [
    "# Araba Veri tipi \n",
    "\n",
    "class Araba():\n",
    "    # Şimdilik Class özelliklerine ihtiyacımız yok.\n",
    "    \n",
    "    def __init__(self):\n",
    "        print(\"init fonksiyonu çağrıldı.\")"
   ]
  },
  {
   "cell_type": "code",
   "execution_count": 16,
   "metadata": {},
   "outputs": [
    {
     "output_type": "stream",
     "name": "stdout",
     "text": [
      "init fonksiyonu çağrıldı.\n"
     ]
    }
   ],
   "source": [
    "araba1 = Araba() # araba1 objesi oluşurken otomatik olarak __init__ metodumuz çağrılıyor."
   ]
  },
  {
   "source": [
    "Burdaki **self** anahtar kelimesi objeyi oluşturduğumuz zaman o objeyi gösteren bir referanstır ve metodlarımızda en başta bulunması gereken bir parametredir. Yani biz bir objenin bütün özelliklerini ve metodlarını bu referans üzerinden kullanabiliriz.\n",
    "\n",
    "Objeler oluşturulurken, Python bu referansı metodlara otomatik olarak kendisi gönderir. Özel olarak self referansını göndermemize gerek yoktur."
   ],
   "cell_type": "markdown",
   "metadata": {}
  },
  {
   "cell_type": "code",
   "execution_count": 17,
   "metadata": {},
   "outputs": [],
   "source": [
    "class Araba():\n",
    "    \n",
    "    def __init__(self,model,renk,beygir_gücü,silindir): # Parametrelerimizin değerlerini objelerimizi oluştururken göndereceğiz.\n",
    "        self.model =  model # self.özellik_ismi = parametre değeri şeklinde objemizin model özelliğine değeri atıyoruz.\n",
    "        self.renk = renk # self.özellik_ismi = parametre değeri şeklinde objemizin renk özelliğine değeri atıyoruz.\n",
    "        self.beygir_gücü = beygir_gücü # self.özellik_ismi = parametre değeri şeklinde objemizin beygir_gücü özelliğine değeri atıyoruz.\n",
    "        self.silindir = silindir # self.özellik_ismi = parametre değeri şeklinde objemizin silndir özelliğine değeri atıyoruz."
   ]
  },
  {
   "cell_type": "code",
   "execution_count": 18,
   "metadata": {},
   "outputs": [],
   "source": [
    "# araba1 objesini oluşturalım.\n",
    "# Artık değerlerimizi göndererek objelerimizin özelliklerini istediğimiz değerle başlatabiliriz.\n",
    "araba1 = Araba(\"Peugeot 301\",\"Beyaz\",90,4) "
   ]
  },
  {
   "cell_type": "code",
   "execution_count": 19,
   "metadata": {},
   "outputs": [],
   "source": [
    "# araba2 objesini oluşturalım.\n",
    "araba2 = Araba(\"Renault Megane\",\"Gümüş\",110,4)"
   ]
  },
  {
   "cell_type": "code",
   "execution_count": 20,
   "metadata": {},
   "outputs": [
    {
     "output_type": "execute_result",
     "data": {
      "text/plain": [
       "'Peugeot 301'"
      ]
     },
     "metadata": {},
     "execution_count": 20
    }
   ],
   "source": [
    "araba1.model"
   ]
  },
  {
   "cell_type": "code",
   "execution_count": 21,
   "metadata": {},
   "outputs": [
    {
     "output_type": "execute_result",
     "data": {
      "text/plain": [
       "'Renault Megane'"
      ]
     },
     "metadata": {},
     "execution_count": 21
    }
   ],
   "source": [
    "araba2.model"
   ]
  },
  {
   "source": [
    "İstersek init metoduna varsayılan değerler de girebiliriz."
   ],
   "cell_type": "markdown",
   "metadata": {}
  },
  {
   "cell_type": "code",
   "execution_count": 22,
   "metadata": {},
   "outputs": [],
   "source": [
    "class Araba():\n",
    "    \n",
    "    def __init__(self , model = \"Bilgi Yok\",renk = \"Bilgi Yok\",beygir_gücü = 75 ,silindir = 4): \n",
    "        self.model =  model \n",
    "        self.renk = renk \n",
    "        self.beygir_gücü = beygir_gücü \n",
    "        self.silindir = silindir"
   ]
  },
  {
   "cell_type": "code",
   "execution_count": 23,
   "metadata": {},
   "outputs": [],
   "source": [
    "araba1 = Araba(beygir_gücü = 85, renk = \"Siyah\")"
   ]
  },
  {
   "cell_type": "code",
   "execution_count": 24,
   "metadata": {},
   "outputs": [
    {
     "output_type": "execute_result",
     "data": {
      "text/plain": [
       "'Bilgi Yok'"
      ]
     },
     "metadata": {},
     "execution_count": 24
    }
   ],
   "source": [
    "araba1.model"
   ]
  },
  {
   "cell_type": "code",
   "execution_count": null,
   "metadata": {},
   "outputs": [],
   "source": []
  }
 ]
}