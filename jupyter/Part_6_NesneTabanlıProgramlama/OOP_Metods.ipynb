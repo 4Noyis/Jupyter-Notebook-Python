{
 "metadata": {
  "language_info": {
   "codemirror_mode": {
    "name": "ipython",
    "version": 3
   },
   "file_extension": ".py",
   "mimetype": "text/x-python",
   "name": "python",
   "nbconvert_exporter": "python",
   "pygments_lexer": "ipython3",
   "version": "3.8.8"
  },
  "orig_nbformat": 4,
  "kernelspec": {
   "name": "python3",
   "display_name": "Python 3.8.8 64-bit ('base': conda)"
  },
  "interpreter": {
   "hash": "07efdcd4b820c98a756949507a4d29d7862823915ec7477944641bea022f4f62"
  }
 },
 "nbformat": 4,
 "nbformat_minor": 2,
 "cells": [
  {
   "source": [
    "# Nesne Tabanlı Programlama Metodlar"
   ],
   "cell_type": "markdown",
   "metadata": {}
  },
  {
   "cell_type": "code",
   "execution_count": 39,
   "metadata": {},
   "outputs": [],
   "source": [
    "class yazılımcı():\n",
    "    def __init__(self,isim,soyisim,numara,maaş,diller):\n",
    "        self.isim=isim\n",
    "        self.soyisim=soyisim\n",
    "        self.numara=numara\n",
    "        self.maaş=maaş\n",
    "        self.diller=diller\n",
    "    def bilgilerigöster(self):\n",
    "        print(\"\"\"\n",
    "        İsim= {}\n",
    "\n",
    "        soyisim={}\n",
    "        \n",
    "        numara={}\n",
    "        \n",
    "        maaş={}\n",
    "        \n",
    "        diller={}\n",
    "\n",
    "        \"\"\".format(self.isim,self.soyisim,self.numara,self.maaş,self.diller))\n",
    "    \n",
    "    def dil_ekle(self,yeni_dil):\n",
    "        print(\"Yendi Dil Eklendi...\")\n",
    "        self.diller.append(yeni_dil)\n",
    "\n",
    "    def maaş_arttır(self,artı_maaş):\n",
    "        print(\"Maaş Arttı...\")\n",
    "        self.maaş+=artı_maaş\n"
   ]
  },
  {
   "cell_type": "code",
   "execution_count": 40,
   "metadata": {},
   "outputs": [],
   "source": [
    "yazılımcı1= yazılımcı(\"Berenalp\",\"Beygirci\",1234,1111,[\"Python\",\"Java\",\"C#\"])"
   ]
  },
  {
   "cell_type": "code",
   "execution_count": 41,
   "metadata": {},
   "outputs": [
    {
     "output_type": "stream",
     "name": "stdout",
     "text": [
      "Yendi Dil Eklendi...\n"
     ]
    }
   ],
   "source": [
    "yazılımcı1.dil_ekle(\"Unity\")"
   ]
  },
  {
   "cell_type": "code",
   "execution_count": 46,
   "metadata": {},
   "outputs": [
    {
     "output_type": "stream",
     "name": "stdout",
     "text": [
      "Maaş Arttı...\n"
     ]
    }
   ],
   "source": [
    "yazılımcı1.maaş_arttır(500)"
   ]
  },
  {
   "cell_type": "code",
   "execution_count": 47,
   "metadata": {},
   "outputs": [
    {
     "output_type": "stream",
     "name": "stdout",
     "text": [
      "\n        İsim= Berenalp\n\n        soyisim=Beygirci\n        \n        numara=1234\n        \n        maaş=1611\n        \n        diller=['Python', 'Java', 'C#', 'Unity']\n\n        \n"
     ]
    }
   ],
   "source": [
    "yazılımcı1.bilgilerigöster()"
   ]
  },
  {
   "cell_type": "code",
   "execution_count": null,
   "metadata": {},
   "outputs": [],
   "source": []
  }
 ]
}