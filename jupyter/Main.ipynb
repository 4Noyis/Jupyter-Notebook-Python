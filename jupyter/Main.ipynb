{
 "cells": [
  {
   "cell_type": "code",
   "execution_count": 1,
   "metadata": {},
   "outputs": [
    {
     "name": "stdout",
     "output_type": "stream",
     "text": [
      "Hello World\n"
     ]
    }
   ],
   "source": [
    "print(\"Hello World\")"
   ]
  },
  {
   "source": [
    "ilk sayi ve ikinci sayi ayni anda al \n",
    "\n",
    "(sayi1%2 or sayi2%)==0 \n",
    "i*2\n",
    "\n",
    "elif \n",
    "\n"
   ],
   "cell_type": "markdown",
   "metadata": {}
  },
  {
   "cell_type": "code",
   "execution_count": 8,
   "metadata": {},
   "outputs": [],
   "source": [
    "def ekok(sayi1,sayi2):\n",
    "    i=1\n",
    "    if((sayi1%2 or sayi2%2)==0):\n",
    "        i*2\n",
    "        if(sayi1%2==0):\n",
    "            sayi1/2\n",
    "            return sayi1\n",
    "        elif(sayi2%2==0):\n",
    "            sayi2/2\n",
    "            return sayi2\n",
    "        else:\n",
    "            return sayi1\n",
    "            return sayi2\n",
    "    return i          "
   ]
  },
  {
   "cell_type": "code",
   "execution_count": 12,
   "metadata": {},
   "outputs": [
    {
     "output_type": "execute_result",
     "data": {
      "text/plain": [
       "8"
      ]
     },
     "metadata": {},
     "execution_count": 12
    }
   ],
   "source": [
    "ekok(8,6)\n"
   ]
  },
  {
   "cell_type": "code",
   "execution_count": 13,
   "metadata": {},
   "outputs": [
    {
     "output_type": "stream",
     "name": "stdout",
     "text": [
      "('elli', '')\n"
     ]
    }
   ],
   "source": [
    "\n",
    "sayi=int(input(\"sayı:\"))\n",
    "\n",
    "onlar=[\"\",\"on\",\"yirmi\",\"otuz\",\"kırk\",\"elli\",\"altmış\",\"yetmiş\",\"seksen\",\"doksan\"]\n",
    "birler=[\"\",\"bir\",\"iki\",\"üç\",\"dört\",\"beş\",\"altı\",\"yedi\",\"sekiz\",\"dokuz\"]\n",
    "\n",
    "def oku(sayi):\n",
    "    on=sayi//10\n",
    "    bir=sayi%10\n",
    "    return onlar[on],birler[bir]\n",
    "\n",
    "\n",
    "print(oku(sayi))    "
   ]
  },
  {
   "cell_type": "code",
   "execution_count": 14,
   "metadata": {},
   "outputs": [
    {
     "output_type": "execute_result",
     "data": {
      "text/plain": [
       "12"
      ]
     },
     "metadata": {},
     "execution_count": 14
    }
   ],
   "source": [
    "61//5"
   ]
  },
  {
   "cell_type": "code",
   "execution_count": null,
   "metadata": {},
   "outputs": [],
   "source": [
    "sayi1=int(input(\"sayı1:\"))\n",
    "sayi2=int(input(\"sayı2:\"))\n",
    "\n",
    "def ekok(sayi1,sayi2):\n",
    "    i=1\n",
    "    while (sayi1>1):\n",
    "        if(sayi1%2==0):\n",
    "            sayi1//2\n",
    "            i*2\n",
    "        elif(sayi1%3==0):\n",
    "            sayi1//3\n",
    "            i*3\n",
    "        elif(sayi1%5==0):\n",
    "            sayi1//5\n",
    "            i*5\n",
    "        elif(sayi1%7==0):\n",
    "            sayi1//7\n",
    "            i*7\n",
    "        else:\n",
    "            break     \n",
    "    while (sayi2>1):\n",
    "        if(sayi2%2==0):\n",
    "            sayi2//2\n",
    "            i*2\n",
    "        elif(sayi2%3==0):\n",
    "            sayi2//3\n",
    "            i*3\n",
    "        elif(sayi2%5==0):\n",
    "            sayi2//5\n",
    "            i*5\n",
    "        elif(sayi2%7==0):\n",
    "            sayi2//7\n",
    "            i*7\n",
    "        else:\n",
    "            break                            \n",
    "    return i \n",
    "\n",
    "print(ekok(sayi1,sayi2))\n"
   ]
  },
  {
   "cell_type": "code",
   "execution_count": null,
   "metadata": {},
   "outputs": [],
   "source": []
  }
 ],
 "metadata": {
  "kernelspec": {
   "name": "python3",
   "display_name": "Python 3.8.8 64-bit ('base': conda)"
  },
  "language_info": {
   "codemirror_mode": {
    "name": "ipython",
    "version": 3
   },
   "file_extension": ".py",
   "mimetype": "text/x-python",
   "name": "python",
   "nbconvert_exporter": "python",
   "pygments_lexer": "ipython3",
   "version": "3.8.8"
  },
  "interpreter": {
   "hash": "07efdcd4b820c98a756949507a4d29d7862823915ec7477944641bea022f4f62"
  }
 },
 "nbformat": 4,
 "nbformat_minor": 2
}