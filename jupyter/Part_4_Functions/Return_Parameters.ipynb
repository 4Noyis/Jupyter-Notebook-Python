{
 "metadata": {
  "language_info": {
   "codemirror_mode": {
    "name": "ipython",
    "version": 3
   },
   "file_extension": ".py",
   "mimetype": "text/x-python",
   "name": "python",
   "nbconvert_exporter": "python",
   "pygments_lexer": "ipython3",
   "version": "3.8.8"
  },
  "orig_nbformat": 4,
  "kernelspec": {
   "name": "python3",
   "display_name": "Python 3.8.8 64-bit ('base': conda)"
  },
  "interpreter": {
   "hash": "07efdcd4b820c98a756949507a4d29d7862823915ec7477944641bea022f4f62"
  }
 },
 "nbformat": 4,
 "nbformat_minor": 2,
 "cells": [
  {
   "source": [
    "# Fonksiyonlarda Return\n",
    "\n",
    "Normalde fonksiyonlar sadece print değeri ile birlikte ekrana değer yazdırabiliyor bize herhangi bir değer vermiyordu. Ancak bu değerleri projemizde başka yerlerde kullanmak isteyebiliriz. Bu gibi durumlarda ***return*** komutu devreye giriyor.\n",
    "\n",
    "Return ifadesi fonksiynun işlemi bittikten sonra çağrıldığı yere değer döndürmesi anlamına gelir."
   ],
   "cell_type": "markdown",
   "metadata": {}
  },
  {
   "cell_type": "code",
   "execution_count": 1,
   "metadata": {},
   "outputs": [],
   "source": [
    "def toplam(a,b,c):\n",
    "    print(\"Toplam\",a+b+c)\n",
    "\n",
    "def ikiyleçarp(a):\n",
    "    print(\"Sonuç:\",a*2)    "
   ]
  },
  {
   "cell_type": "code",
   "execution_count": 3,
   "metadata": {},
   "outputs": [
    {
     "output_type": "stream",
     "name": "stdout",
     "text": [
      "Toplam 6\n"
     ]
    },
    {
     "output_type": "error",
     "ename": "TypeError",
     "evalue": "unsupported operand type(s) for *: 'NoneType' and 'int'",
     "traceback": [
      "\u001b[1;31m---------------------------------------------------------------------------\u001b[0m",
      "\u001b[1;31mTypeError\u001b[0m                                 Traceback (most recent call last)",
      "\u001b[1;32m<ipython-input-3-92caddd5bc01>\u001b[0m in \u001b[0;36m<module>\u001b[1;34m\u001b[0m\n\u001b[0;32m      1\u001b[0m \u001b[0mtoplam\u001b[0m\u001b[1;33m=\u001b[0m\u001b[0mtoplam\u001b[0m\u001b[1;33m(\u001b[0m\u001b[1;36m1\u001b[0m\u001b[1;33m,\u001b[0m\u001b[1;36m2\u001b[0m\u001b[1;33m,\u001b[0m\u001b[1;36m3\u001b[0m\u001b[1;33m)\u001b[0m\u001b[1;33m\u001b[0m\u001b[1;33m\u001b[0m\u001b[0m\n\u001b[1;32m----> 2\u001b[1;33m \u001b[0mikiyleçarp\u001b[0m\u001b[1;33m(\u001b[0m\u001b[0mtoplam\u001b[0m\u001b[1;33m)\u001b[0m\u001b[1;33m\u001b[0m\u001b[1;33m\u001b[0m\u001b[0m\n\u001b[0m",
      "\u001b[1;32m<ipython-input-1-681801158a1d>\u001b[0m in \u001b[0;36mikiyleçarp\u001b[1;34m(a)\u001b[0m\n\u001b[0;32m      3\u001b[0m \u001b[1;33m\u001b[0m\u001b[0m\n\u001b[0;32m      4\u001b[0m \u001b[1;32mdef\u001b[0m \u001b[0mikiyleçarp\u001b[0m\u001b[1;33m(\u001b[0m\u001b[0ma\u001b[0m\u001b[1;33m)\u001b[0m\u001b[1;33m:\u001b[0m\u001b[1;33m\u001b[0m\u001b[1;33m\u001b[0m\u001b[0m\n\u001b[1;32m----> 5\u001b[1;33m     \u001b[0mprint\u001b[0m\u001b[1;33m(\u001b[0m\u001b[1;34m\"Sonuç:\"\u001b[0m\u001b[1;33m,\u001b[0m\u001b[0ma\u001b[0m\u001b[1;33m*\u001b[0m\u001b[1;36m2\u001b[0m\u001b[1;33m)\u001b[0m\u001b[1;33m\u001b[0m\u001b[1;33m\u001b[0m\u001b[0m\n\u001b[0m",
      "\u001b[1;31mTypeError\u001b[0m: unsupported operand type(s) for *: 'NoneType' and 'int'"
     ]
    }
   ],
   "source": [
    "toplam=toplam(1,2,3)\n",
    "ikiyleçarp(toplam)"
   ]
  },
  {
   "source": [
    "Burada hata almamızın sebebi fonksiyonları herhangi bir değer döndürmemesi yani return kullanmamasıdır. "
   ],
   "cell_type": "markdown",
   "metadata": {}
  },
  {
   "cell_type": "code",
   "execution_count": 4,
   "metadata": {},
   "outputs": [
    {
     "output_type": "execute_result",
     "data": {
      "text/plain": [
       "NoneType"
      ]
     },
     "metadata": {},
     "execution_count": 4
    }
   ],
   "source": [
    "type(toplam)"
   ]
  },
  {
   "cell_type": "code",
   "execution_count": 5,
   "metadata": {},
   "outputs": [],
   "source": [
    "def toplama(a,b,c):\n",
    "    return a+b+c # return'un kullanımı \n",
    "def ikiyle_çarp(a):\n",
    "    return a*2"
   ]
  },
  {
   "cell_type": "code",
   "execution_count": 7,
   "metadata": {},
   "outputs": [
    {
     "output_type": "stream",
     "name": "stdout",
     "text": [
      "24\n"
     ]
    }
   ],
   "source": [
    "toplam = toplama(3,4,5)\n",
    "print(ikiyle_çarp(toplam))"
   ]
  },
  {
   "source": [
    "return ile değerleri geldiği yere döndürebilir ve o şekilde kullanabiliriz. Yukarıda toplama(3,4,5) ifadesi 12 değeri alarak kullanılır."
   ],
   "cell_type": "markdown",
   "metadata": {}
  },
  {
   "cell_type": "code",
   "execution_count": 8,
   "metadata": {},
   "outputs": [],
   "source": [
    "def üçleçarp(a):\n",
    "    print(\"1.fonksiyon çalıştı\")\n",
    "    return a*3"
   ]
  },
  {
   "cell_type": "code",
   "execution_count": 9,
   "metadata": {},
   "outputs": [],
   "source": [
    "def ikiyletopla(a):\n",
    "    print(\"2.fonksiyon çalıştı\")\n",
    "    return a + 2"
   ]
  },
  {
   "cell_type": "code",
   "execution_count": 10,
   "metadata": {},
   "outputs": [],
   "source": [
    "def dördeböl(a):\n",
    "    print(\"3.fonksiyon çalıştı\")\n",
    "    return a / 4"
   ]
  },
  {
   "cell_type": "code",
   "execution_count": 11,
   "metadata": {},
   "outputs": [
    {
     "output_type": "stream",
     "name": "stdout",
     "text": [
      "1.fonksiyon çalıştı\n2.fonksiyon çalıştı\n3.fonksiyon çalıştı\n4.25\n"
     ]
    }
   ],
   "source": [
    "print(dördeböl(ikiyletopla(üçleçarp(5))))"
   ]
  },
  {
   "source": [
    "sırayla\n",
    "\n",
    "print(dördeböl(ikiyletopla(üçleçarp(5))))\n",
    "\n",
    "print(dördeböl(ikiyletopla(15))\n",
    "\n",
    "print(dördeböl(17))\n",
    "\n",
    "print(4.25)   "
   ],
   "cell_type": "markdown",
   "metadata": {}
  },
  {
   "source": [
    "Return ifadesinden sonra fonksiyon sona erer ve ondan sonra yazıllan hiç bir işlem gerçkeleşmez."
   ],
   "cell_type": "markdown",
   "metadata": {}
  },
  {
   "cell_type": "code",
   "execution_count": 14,
   "metadata": {},
   "outputs": [
    {
     "output_type": "stream",
     "name": "stdout",
     "text": [
      "6\n"
     ]
    }
   ],
   "source": [
    "def toplama(a,b,c):\n",
    "    return a + b + c\n",
    "    print(\"Toplama fonksiyonu\") # Çalıştırılmadı.\n",
    "\n",
    "print(toplama(1,2,3))    "
   ]
  },
  {
   "source": [
    "Fonksiyonlarda çağırıldğı yere herhangi bir değer döndürmeyen(return kullanılmayan) Fonksiyonlara ***void*** fonksiyon denir"
   ],
   "cell_type": "markdown",
   "metadata": {}
  },
  {
   "source": [
    "# Parametre Türleri\n",
    "\n",
    "Daha önce parametre ne görmüştük ama bir parametreyi nasıl varsaıylan yapacağımız aşağıda. Tek (=) kullanılarak yapılır.\n"
   ],
   "cell_type": "markdown",
   "metadata": {}
  },
  {
   "cell_type": "code",
   "execution_count": 16,
   "metadata": {},
   "outputs": [],
   "source": [
    "def selamla(isim):\n",
    "    print(\"Merhaba\",isim)"
   ]
  },
  {
   "cell_type": "code",
   "execution_count": 19,
   "metadata": {},
   "outputs": [
    {
     "output_type": "error",
     "ename": "TypeError",
     "evalue": "selamla() missing 1 required positional argument: 'isim'",
     "traceback": [
      "\u001b[1;31m---------------------------------------------------------------------------\u001b[0m",
      "\u001b[1;31mTypeError\u001b[0m                                 Traceback (most recent call last)",
      "\u001b[1;32m<ipython-input-19-e0e6de53c95c>\u001b[0m in \u001b[0;36m<module>\u001b[1;34m\u001b[0m\n\u001b[1;32m----> 1\u001b[1;33m \u001b[0mselamla\u001b[0m\u001b[1;33m(\u001b[0m\u001b[1;33m)\u001b[0m\u001b[1;33m\u001b[0m\u001b[1;33m\u001b[0m\u001b[0m\n\u001b[0m",
      "\u001b[1;31mTypeError\u001b[0m: selamla() missing 1 required positional argument: 'isim'"
     ]
    }
   ],
   "source": [
    "selamla()"
   ]
  },
  {
   "cell_type": "code",
   "execution_count": 23,
   "metadata": {},
   "outputs": [],
   "source": [
    "def selamla(isim=\"isimsiz\"):\n",
    "    print(\"Merhaba\",isim)"
   ]
  },
  {
   "cell_type": "code",
   "execution_count": 24,
   "metadata": {},
   "outputs": [],
   "source": [
    "def bilgilerigöster(ad = \"Bilgi Yok\",soyad = \"Bilgi Yok\",numara =  \"Bilgi Yok\"):\n",
    "    print(\"Ad:\",ad,\"Soyad:\",soyad,\"Numara:\",numara)"
   ]
  },
  {
   "cell_type": "code",
   "execution_count": 25,
   "metadata": {},
   "outputs": [
    {
     "output_type": "stream",
     "name": "stdout",
     "text": [
      "Ad: Bilgi Yok Soyad: Bilgi Yok Numara: Bilgi Yok\n"
     ]
    }
   ],
   "source": [
    "bilgilerigöster()"
   ]
  },
  {
   "cell_type": "code",
   "execution_count": 26,
   "metadata": {},
   "outputs": [
    {
     "output_type": "stream",
     "name": "stdout",
     "text": [
      "Ad: Mustafa Murat Soyad: Coşkun Numara: Bilgi Yok\n"
     ]
    }
   ],
   "source": [
    "bilgilerigöster(\"Mustafa Murat\",\"Coşkun\") # ad ve soyad değerini verdik ancak numara parametresi varsayılan değer oldu. "
   ]
  },
  {
   "source": [
    "Böyle bir durumla karşılaşmamak için değerleri sıralı vermemiz gerekiyor ya da hangi değeri veridğimizi belirterek vermemiz gerekiyor."
   ],
   "cell_type": "markdown",
   "metadata": {}
  },
  {
   "cell_type": "code",
   "execution_count": 27,
   "metadata": {},
   "outputs": [
    {
     "output_type": "stream",
     "name": "stdout",
     "text": [
      "Ad: Bilgi Yok Soyad: Bilgi Yok Numara: 123456\n"
     ]
    }
   ],
   "source": [
    "bilgilerigöster(numara = \"123456\") # numara parametresini özel olarak belirtiyoruz."
   ]
  },
  {
   "cell_type": "code",
   "execution_count": 28,
   "metadata": {},
   "outputs": [
    {
     "output_type": "stream",
     "name": "stdout",
     "text": [
      "Ad: Mustafa Murat Soyad: Bilgi Yok Numara: 123456\n"
     ]
    }
   ],
   "source": [
    "bilgilerigöster(ad = \"Mustafa Murat\",numara = \"123456\")"
   ]
  },
  {
   "source": [
    "## Esnek sayıda değerler\n",
    "\n",
    "Normalde bir fonksiyonda önceden kaç tane değer gireceğimizi belirtememiz gerekiyor ancak bunu esnek yapabilmek için parametrenin başına *(yıldız) işareti koyarak yapabliriz."
   ],
   "cell_type": "markdown",
   "metadata": {}
  },
  {
   "cell_type": "code",
   "execution_count": 29,
   "metadata": {},
   "outputs": [],
   "source": [
    "def toplama(*sayılar): # Artık parametreler değişkenini bir demet gibi kullanabilirim.\n",
    "    toplam =  0\n",
    "    print(\"sayılar:\",sayılar)\n",
    "    for i in sayılar:\n",
    "        toplam += i\n",
    "    return toplam\n"
   ]
  },
  {
   "cell_type": "code",
   "execution_count": 30,
   "metadata": {},
   "outputs": [
    {
     "output_type": "stream",
     "name": "stdout",
     "text": [
      "Parametreler: (1, 2, 3, 4, 5, 6, 7, 8, 9)\n45\n"
     ]
    }
   ],
   "source": [
    "print(toplama(1,2,3,4,5,6,7,8,9))"
   ]
  },
  {
   "source": [
    "bu şekilde istediğimiz kadar değer girebiliriz."
   ],
   "cell_type": "markdown",
   "metadata": {}
  }
 ]
}