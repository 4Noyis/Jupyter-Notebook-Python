{
 "metadata": {
  "language_info": {
   "codemirror_mode": {
    "name": "ipython",
    "version": 3
   },
   "file_extension": ".py",
   "mimetype": "text/x-python",
   "name": "python",
   "nbconvert_exporter": "python",
   "pygments_lexer": "ipython3",
   "version": "3.8.8"
  },
  "orig_nbformat": 4,
  "kernelspec": {
   "name": "python3",
   "display_name": "Python 3.8.8 64-bit ('base': conda)"
  },
  "interpreter": {
   "hash": "07efdcd4b820c98a756949507a4d29d7862823915ec7477944641bea022f4f62"
  }
 },
 "nbformat": 4,
 "nbformat_minor": 2,
 "cells": [
  {
   "source": [
    "# Lambda Ifadeleri\n",
    "\n",
    "Lambda ifadeleri basit fonksiyonları daha pratik bir şekilde yazmamıza olanak sağlayan expressionlardır."
   ],
   "cell_type": "markdown",
   "metadata": {}
  },
  {
   "source": [
    "def ikiyleçarp(x): # Klasik fonksiyon tanımlama\n",
    "    return x * 2\n",
    "print(ikiyleçarp(2))"
   ],
   "cell_type": "code",
   "metadata": {},
   "execution_count": 2,
   "outputs": [
    {
     "output_type": "stream",
     "name": "stdout",
     "text": [
      "4\n"
     ]
    }
   ]
  },
  {
   "cell_type": "code",
   "execution_count": 3,
   "metadata": {},
   "outputs": [
    {
     "output_type": "stream",
     "name": "stdout",
     "text": [
      "4\n"
     ]
    }
   ],
   "source": [
    "# Şimdi de bu fonksiyonu lambda ifadelerini kullanarak tek satırda yazalım.\n",
    "\n",
    "ikiyleçarp = lambda x : x * 2 \n",
    "\n",
    "# x parametre x* 2 return ifadesi ve ikiyleçarp değeri de bir etikettir(değişken gibi düşünelim)\n",
    "print(ikiyleçarp(2))"
   ]
  },
  {
   "cell_type": "code",
   "execution_count": 4,
   "metadata": {},
   "outputs": [
    {
     "output_type": "stream",
     "name": "stdout",
     "text": [
      "12\n"
     ]
    }
   ],
   "source": [
    "def toplama(a,b,c):\n",
    "    return a + b + c\n",
    "print(toplama(3,4,5))    "
   ]
  },
  {
   "cell_type": "code",
   "execution_count": 6,
   "metadata": {},
   "outputs": [
    {
     "output_type": "stream",
     "name": "stdout",
     "text": [
      "6\n"
     ]
    }
   ],
   "source": [
    "topla = lambda x,y,z : x + y + z\n",
    "print(toplama(1,2,3))"
   ]
  },
  {
   "cell_type": "code",
   "execution_count": 7,
   "metadata": {},
   "outputs": [
    {
     "output_type": "stream",
     "name": "stdout",
     "text": [
      "True\n"
     ]
    }
   ],
   "source": [
    "# çift mi \n",
    "\n",
    "def çiftmi(sayı):\n",
    "    return ( sayı % 2 == 0 )\n",
    "print(çiftmi(2))  "
   ]
  },
  {
   "cell_type": "code",
   "execution_count": 9,
   "metadata": {},
   "outputs": [
    {
     "output_type": "stream",
     "name": "stdout",
     "text": [
      "True\n"
     ]
    }
   ],
   "source": [
    "çifttek = lambda sayı :  sayı % 2 == 0 \n",
    "print(çiftmi(2))"
   ]
  },
  {
   "source": [
    "\n",
    "\n",
    "İşte lambda ifadesini bu şekilde küçük fonksiyonlar için kullanabiliriz. lambda ifadelerini özellikle kısa bir fonksiyonu def ifadesiyle yazmanın zahmetli olduğu zamanlarda kullanılabilir."
   ],
   "cell_type": "markdown",
   "metadata": {}
  }
 ]
}