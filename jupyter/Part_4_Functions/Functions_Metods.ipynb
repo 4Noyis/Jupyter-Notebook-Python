{
 "metadata": {
  "language_info": {
   "codemirror_mode": {
    "name": "ipython",
    "version": 3
   },
   "file_extension": ".py",
   "mimetype": "text/x-python",
   "name": "python",
   "nbconvert_exporter": "python",
   "pygments_lexer": "ipython3",
   "version": "3.8.8"
  },
  "orig_nbformat": 4,
  "kernelspec": {
   "name": "python3",
   "display_name": "Python 3.8.8 64-bit ('base': conda)"
  },
  "interpreter": {
   "hash": "07efdcd4b820c98a756949507a4d29d7862823915ec7477944641bea022f4f62"
  }
 },
 "nbformat": 4,
 "nbformat_minor": 2,
 "cells": [
  {
   "source": [
    "# Metodlar "
   ],
   "cell_type": "markdown",
   "metadata": {}
  },
  {
   "source": [
    "Metodlar bir obje üzerinde belli işlemleri gerçekleştiren objelere özgü fonksiyonlardır ve objelerin üzerinde metodlar şu şekilde \n",
    "kullanılır.\n",
    "\n",
    "    obje.herhangi_bir_metod(değerler(opsiyonel))\n"
   ],
   "cell_type": "markdown",
   "metadata": {}
  },
  {
   "cell_type": "code",
   "execution_count": 2,
   "metadata": {},
   "outputs": [
    {
     "output_type": "execute_result",
     "data": {
      "text/plain": [
       "[1, 2, 3, 4, 5, 'berenalp']"
      ]
     },
     "metadata": {},
     "execution_count": 2
    }
   ],
   "source": [
    "liste=[1,2,3,4,5]\n",
    "\n",
    "liste.append(\"berenalp\")\n",
    "liste"
   ]
  },
  {
   "source": [
    "Metodların ne işe yaradığını anlamak için help komutunu kullanabiliriz.\n"
   ],
   "cell_type": "markdown",
   "metadata": {}
  },
  {
   "cell_type": "code",
   "execution_count": 4,
   "metadata": {},
   "outputs": [
    {
     "output_type": "stream",
     "name": "stdout",
     "text": [
      "Help on built-in function insert:\n\ninsert(index, object, /) method of builtins.list instance\n    Insert object before index.\n\n"
     ]
    }
   ],
   "source": [
    "help(liste.insert)"
   ]
  },
  {
   "source": [
    "# Fonksiyonlar"
   ],
   "cell_type": "markdown",
   "metadata": {}
  },
  {
   "source": [
    "foksiyonlar belli işlevi olan tekrar tekrar kulandığımız yapılarıdır. Kod tekrarlarını engellerler.\n",
    "\n",
    "python geliştiricilerinin önceden yazdığı ve bizimde de kullandığımız (print(), type()...) gibi foksiyonlar built-in(Gömülü fonksiyonlar) fonksiyonlar olarak geçer. Bunlar dışında biz de kendi fonksiyonlarımızı oluşturabiliriz"
   ],
   "cell_type": "markdown",
   "metadata": {}
  },
  {
   "source": [
    "### Fonksiyonların Tanımlanması\n",
    "\n",
    "Fonksiyon tanımlamanın yapısı şu şekildedir;\n",
    "\n",
    "            def fonksiyon_adı(parametre1,parametre2..... (opsiyonel)):\n",
    "                # Fonksiyon bloğu\n",
    "                Yapılacak işlemler\n",
    "                # dönüş değeri - Opsiyonel\n",
    "                \n",
    "İsterseniz şimdi bir tane \"selamla\" isimli bir fonksiyon tanımlayalım."
   ],
   "cell_type": "markdown",
   "metadata": {}
  },
  {
   "cell_type": "code",
   "execution_count": 5,
   "metadata": {},
   "outputs": [],
   "source": [
    "def selamla():\n",
    "    print(\"Berenalp Beygirci\")\n",
    "    "
   ]
  },
  {
   "cell_type": "code",
   "execution_count": 6,
   "metadata": {},
   "outputs": [
    {
     "output_type": "stream",
     "name": "stdout",
     "text": [
      "Berenalp Beygirci\n"
     ]
    }
   ],
   "source": [
    "selamla()"
   ]
  },
  {
   "cell_type": "code",
   "execution_count": 7,
   "metadata": {},
   "outputs": [
    {
     "output_type": "execute_result",
     "data": {
      "text/plain": [
       "function"
      ]
     },
     "metadata": {},
     "execution_count": 7
    }
   ],
   "source": [
    "type(selamla)"
   ]
  },
  {
   "source": [
    "### Parametreler ve argümanlar \n",
    "\n",
    "\n",
    "Selamla fonksiyonun içine bir değer göndermiyorduk ama genelde çoğu fonksiyon içine gönderdiğimiz değerlerle yeni sonuçlar verirler "
   ],
   "cell_type": "markdown",
   "metadata": {}
  },
  {
   "cell_type": "code",
   "execution_count": 9,
   "metadata": {},
   "outputs": [],
   "source": [
    "def selamla (isim):\n",
    "    print(\"isminiz:\",isim)"
   ]
  },
  {
   "cell_type": "code",
   "execution_count": 11,
   "metadata": {},
   "outputs": [
    {
     "output_type": "stream",
     "name": "stdout",
     "text": [
      "isminiz: berenalp\n"
     ]
    }
   ],
   "source": [
    "selamla(\"berenalp\")"
   ]
  },
  {
   "cell_type": "code",
   "execution_count": 15,
   "metadata": {},
   "outputs": [
    {
     "output_type": "stream",
     "name": "stdout",
     "text": [
      "Toplam: 6\n"
     ]
    }
   ],
   "source": [
    "def toplama(a,b,c):\n",
    "    print(\"Toplam:\",a+b+c)\n",
    "toplama(1,2,3)    "
   ]
  },
  {
   "cell_type": "code",
   "execution_count": 31,
   "metadata": {},
   "outputs": [],
   "source": [
    "def faktoriyel(sayı):\n",
    "    faktoriyel = 1\n",
    "    if (sayı == 0 or sayı == 1):\n",
    "        print(\"Faktoriyel\",faktoriyel)\n",
    "    else:\n",
    "        while (sayı >= 1):\n",
    "            faktoriyel *= sayı\n",
    "            print(faktoriyel,sayı)\n",
    "            sayı -=1\n",
    "        print(\"Faktoriyel\", faktoriyel)"
   ]
  },
  {
   "cell_type": "code",
   "execution_count": 32,
   "metadata": {},
   "outputs": [
    {
     "output_type": "stream",
     "name": "stdout",
     "text": [
      "5 5\n20 4\n60 3\n120 2\n120 1\nFaktoriyel 120\n"
     ]
    }
   ],
   "source": [
    "faktoriyel(5)"
   ]
  },
  {
   "cell_type": "code",
   "execution_count": 30,
   "metadata": {},
   "outputs": [
    {
     "output_type": "stream",
     "name": "stdout",
     "text": [
      "Faktoriyel 1\n"
     ]
    }
   ],
   "source": [
    "faktoriyel(0)"
   ]
  },
  {
   "cell_type": "code",
   "execution_count": null,
   "metadata": {},
   "outputs": [],
   "source": []
  }
 ]
}